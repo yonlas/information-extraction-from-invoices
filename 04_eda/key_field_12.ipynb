{
 "cells": [
  {
   "cell_type": "code",
   "execution_count": null,
   "metadata": {},
   "outputs": [],
   "source": [
    "import pandas as pd\n",
    "import numpy as np\n",
    "import matplotlib.pyplot as plt\n",
    "import seaborn as sns\n",
    "import os\n",
    "from IPython.display import display"
   ]
  },
  {
   "cell_type": "code",
   "execution_count": null,
   "metadata": {},
   "outputs": [],
   "source": [
    "# Load each sheet from the Excel file\n",
    "sheets = pd.read_excel('./xlsx/metrics_setup_12.xlsx', sheet_name=None)\n",
    "\n",
    "# Display the first few rows of each sheet to understand its structure\n",
    "sheet_previews = {sheet_name: sheet_data.head() for sheet_name, sheet_data in sheets.items()}\n",
    "\n",
    "# Display sheet_previews using the display() function\n",
    "for sheet_name, sheet_data in sheet_previews.items():\n",
    "    print(f\"Sheet Name: {sheet_name}\")\n",
    "    display(sheet_data)"
   ]
  },
  {
   "cell_type": "code",
   "execution_count": null,
   "metadata": {},
   "outputs": [],
   "source": [
    "# Load the sheet into a pandas DataFrame\n",
    "df = pd.read_excel('./xlsx/metrics_setup_12.xlsx', sheet_name='Field level F1 score')\n",
    "\n",
    "# Set the index to the 'Field' column\n",
    "df.set_index('Field', inplace=True)\n",
    "\n",
    "# Plot the F1 scores for each field\n",
    "ax = df['F1 Score'].plot(kind='bar', figsize=(10,6), color='blue', alpha=0.5, edgecolor='black')\n",
    "\n",
    "# Set the chart title and axis labels\n",
    "ax.set_title('F1 Scores by Field', fontsize=16)\n",
    "ax.set_xlabel('Field', fontsize=14)\n",
    "ax.set_ylabel('F1 Score', fontsize=14)\n",
    "\n",
    "# Display the chart\n",
    "plt.show()"
   ]
  },
  {
   "cell_type": "code",
   "execution_count": null,
   "metadata": {},
   "outputs": [],
   "source": [
    "\n",
    "\n",
    "# Load the sheet into a pandas DataFrame\n",
    "df = pd.read_excel('./xlsx/metrics_setup_12.xlsx', sheet_name='Field level F1 score')\n",
    "\n",
    "# Plot the field-level F1 scores, precision, and recall\n",
    "plt.figure(figsize=(8, 12))\n",
    "\n",
    "# F1 Scores\n",
    "plt.subplot(3, 1, 1)\n",
    "sns.barplot(x='F1 Score', y='Field', data=df, palette='viridis')\n",
    "plt.title('Field-level F1 Scores', fontsize=16)\n",
    "plt.xlabel('F1 Score', fontsize=14)\n",
    "plt.ylabel('Field', fontsize=14)\n",
    "\n",
    "# Precision\n",
    "plt.subplot(3, 1, 2)\n",
    "sns.barplot(x='Precision', y='Field', data=df, palette='viridis')\n",
    "plt.title('Field-level Precision', fontsize=16)\n",
    "plt.xlabel('Precision', fontsize=14)\n",
    "plt.ylabel('Field', fontsize=14)\n",
    "\n",
    "# Recall\n",
    "plt.subplot(3, 1, 3)\n",
    "sns.barplot(x='Recall', y='Field', data=df, palette='viridis')\n",
    "plt.title('Field-level Recall', fontsize=16)\n",
    "plt.xlabel('Recall', fontsize=14)\n",
    "plt.ylabel('Field', fontsize=14)\n",
    "\n",
    "plt.tight_layout()\n",
    "\n",
    "# Create the images directory if it doesn't exist\n",
    "if not os.path.exists('images'):\n",
    "    os.makedirs('images')\n",
    "\n",
    "# Save the plot to the images directory\n",
    "plt.savefig('images/field_level_metrics.png')\n",
    "\n",
    "plt.show()"
   ]
  },
  {
   "cell_type": "code",
   "execution_count": null,
   "metadata": {},
   "outputs": [],
   "source": [
    "# Load the \"Field level F1 score\" sheet into a pandas DataFrame\n",
    "df = pd.read_excel('./xlsx/metrics_setup_12.xlsx', sheet_name='Field level F1 score')\n",
    "\n",
    "# Remove the index from the DataFrame\n",
    "df = df.reset_index(drop=True)\n",
    "\n",
    "# Format the F1 Score, Precision, and Recall columns to two decimal places\n",
    "df['F1 Score'] = df['F1 Score'].apply(lambda x: '{:.2f}'.format(x))\n",
    "df['Precision'] = df['Precision'].apply(lambda x: '{:.2f}'.format(x))\n",
    "df['Recall'] = df['Recall'].apply(lambda x: '{:.2f}'.format(x))\n",
    "\n",
    "# Display the DataFrame as a table\n",
    "print(\"Sheet Name: Field level F1 score\")\n",
    "display(df)"
   ]
  },
  {
   "cell_type": "code",
   "execution_count": null,
   "metadata": {},
   "outputs": [],
   "source": [
    "# Extract data from the \"Field level LD\" sheet\n",
    "field_level_ld = sheets['Field level LD']\n",
    "\n",
    "# Convert the Levenshtein Distance column to numeric\n",
    "field_level_ld['Levenshtein Distance'] = pd.to_numeric(field_level_ld['Levenshtein Distance'], errors='coerce')\n",
    "\n",
    "# Plot the field-level Levenshtein Distances\n",
    "plt.figure(figsize=(10, 6))\n",
    "sns.barplot(x='Levenshtein Distance', y='Field', data=field_level_ld, palette='viridis')\n",
    "plt.title('Field-level Levenshtein Distances')\n",
    "plt.xlabel('Levenshtein Distance')\n",
    "plt.ylabel('')\n",
    "plt.xlim(0, 1)\n",
    "\n",
    "# Create the images directory if it doesn't exist\n",
    "if not os.path.exists('images'):\n",
    "    os.makedirs('images')\n",
    "\n",
    "# Save the plot to the images directory\n",
    "plt.savefig('images/field_level_lev_dist.png')\n",
    "\n",
    "plt.show()"
   ]
  },
  {
   "cell_type": "code",
   "execution_count": null,
   "metadata": {},
   "outputs": [],
   "source": [
    "# Extract data from the \"Field level LD\" sheet\n",
    "field_level_ld = sheets['Field level LD']\n",
    "\n",
    "# Convert the Levenshtein Distance column to numeric\n",
    "field_level_ld['Levenshtein Distance'] = pd.to_numeric(field_level_ld['Levenshtein Distance'], errors='coerce')\n",
    "\n",
    "# Plot the field-level Levenshtein Distances\n",
    "plt.figure(figsize=(10, 6))\n",
    "sns.barplot(x='Levenshtein Distance', y='Field', data=field_level_ld, palette='viridis')\n",
    "plt.title('Field-level Levenshtein Distances')\n",
    "plt.xlabel('Levenshtein Distance')\n",
    "plt.ylabel('')\n",
    "plt.xlim(0, 0.5)\n",
    "\n",
    "# Create the images directory if it doesn't exist\n",
    "if not os.path.exists('images'):\n",
    "    os.makedirs('images')\n",
    "\n",
    "# Save the plot to the images directory\n",
    "plt.savefig('images/field_level_lev_dist_2.png')\n",
    "\n",
    "plt.show()"
   ]
  },
  {
   "cell_type": "code",
   "execution_count": null,
   "metadata": {},
   "outputs": [],
   "source": []
  }
 ],
 "metadata": {
  "kernelspec": {
   "display_name": "Python 3",
   "language": "python",
   "name": "python3"
  },
  "language_info": {
   "codemirror_mode": {
    "name": "ipython",
    "version": 3
   },
   "file_extension": ".py",
   "mimetype": "text/x-python",
   "name": "python",
   "nbconvert_exporter": "python",
   "pygments_lexer": "ipython3",
   "version": "3.11.3"
  },
  "orig_nbformat": 4
 },
 "nbformat": 4,
 "nbformat_minor": 2
}
